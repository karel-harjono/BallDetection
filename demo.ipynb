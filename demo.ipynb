{
 "cells": [
  {
   "cell_type": "code",
   "execution_count": 5,
   "metadata": {},
   "outputs": [],
   "source": [
    "import cv2\n",
    "import numpy as np"
   ]
  },
  {
   "cell_type": "code",
   "execution_count": 6,
   "metadata": {},
   "outputs": [],
   "source": [
    "cap = cv2.VideoCapture(\"volleyball_video_full_2.mp4\")\n",
    "# cap = cv2.VideoCapture(\"output/high_res_video/volleyball_5_mins.mp4\")\n",
    "# cap = cv2.VideoCapture(\"output/high_res_video/volleyball_clip.mp4\")"
   ]
  },
  {
   "cell_type": "code",
   "execution_count": 7,
   "metadata": {},
   "outputs": [],
   "source": [
    "fps = int(cap.get(cv2.CAP_PROP_FPS))\n",
    "width = int(cap.get(cv2.CAP_PROP_FRAME_WIDTH))\n",
    "height = int(cap.get(cv2.CAP_PROP_FRAME_HEIGHT))\n",
    "subtractor = cv2.createBackgroundSubtractorKNN(history=500, dist2Threshold=500, detectShadows=True)\n",
    "# subtractor = cv2.createBackgroundSubtractorMOG2(history=500, varThreshold=100, detectShadows=True)\n",
    "font = cv2.FONT_HERSHEY_SIMPLEX\n",
    "font_scale = 0.6\n",
    "font_color = (0, 255, 255)\n",
    "thickness = 1\n",
    "line_type = cv2.LINE_AA\n",
    "label_position = (10, 20)"
   ]
  },
  {
   "cell_type": "code",
   "execution_count": 8,
   "metadata": {},
   "outputs": [],
   "source": [
    "scale_factor = 0.45\n",
    "new_width = int(width * scale_factor)\n",
    "new_height = int(height * scale_factor)\n",
    "\n",
    "# Define the codec and create VideoWriter object\n",
    "fourcc = cv2.VideoWriter_fourcc(*'XVID')\n",
    "out = cv2.VideoWriter('output_background_subtraction.avi', fourcc, fps, (new_width*2, new_height*2))\n",
    "\n",
    "while True:\n",
    "    ret, frame = cap.read()\n",
    "    if not ret:\n",
    "        break\n",
    "\n",
    "    frame_rgb = cv2.cvtColor(frame, cv2.COLOR_BGR2RGB)\n",
    "    frame = cv2.resize(frame, (new_width, new_height))\n",
    "\n",
    "    movement_mask = subtractor.apply(frame)\n",
    "    movement_mask[movement_mask == 127] = 0\n",
    "    movement_mask = cv2.morphologyEx(movement_mask, cv2.MORPH_OPEN, cv2.getStructuringElement(cv2.MORPH_ELLIPSE, (2, 2)))\n",
    "    movement_mask = cv2.morphologyEx(movement_mask, cv2.MORPH_DILATE, cv2.getStructuringElement(cv2.MORPH_RECT, (8, 12)))\n",
    "\n",
    "    frame_hsv = cv2.cvtColor(frame, cv2.COLOR_BGR2HSV)\n",
    "    lower_yellow = np.array([10, 0, 0])\n",
    "    upper_yellow = np.array([50, 255, 255])\n",
    "    color_mask = cv2.inRange(frame_hsv, lower_yellow, upper_yellow)\n",
    "    color_mask = cv2.morphologyEx(color_mask, cv2.MORPH_OPEN, cv2.getStructuringElement(cv2.MORPH_ELLIPSE, (5, 5)))\n",
    "    color_mask = cv2.morphologyEx(color_mask, cv2.MORPH_CLOSE, cv2.getStructuringElement(cv2.MORPH_ELLIPSE, (10, 10)))\n",
    "\n",
    "    contours, _ = cv2.findContours(color_mask, cv2.RETR_EXTERNAL, cv2.CHAIN_APPROX_SIMPLE)\n",
    "    ball_mask = np.zeros_like(frame[:, :, 0])\n",
    "    if contours:\n",
    "        largest_contour = max(contours, key=cv2.contourArea)\n",
    "        (x, y), radius = cv2.minEnclosingCircle(largest_contour)\n",
    "        center = (int(x), int(y))\n",
    "        cv2.circle(ball_mask, center, int(radius) + 1, 255, -1)\n",
    "\n",
    "    contours_movement, _ = cv2.findContours(movement_mask, cv2.RETR_EXTERNAL, cv2.CHAIN_APPROX_SIMPLE)\n",
    "    contours_movement = sorted(contours_movement, key=cv2.contourArea, reverse=True)[:6]\n",
    "    movement_mask = np.zeros_like(movement_mask)\n",
    "    cv2.drawContours(movement_mask, contours_movement, -1, 255, thickness=cv2.FILLED)\n",
    "\n",
    "    players_only = cv2.bitwise_and(frame, frame, mask=movement_mask)\n",
    "    ball_only = cv2.bitwise_and(frame, frame, mask=ball_mask)\n",
    "    ball_and_players = cv2.bitwise_or(players_only, ball_only)\n",
    "\n",
    "    frame_display = frame.copy()\n",
    "    players_display = players_only.copy()\n",
    "    ball_display = ball_only.copy()\n",
    "    combined_display = ball_and_players.copy()\n",
    "\n",
    "    cv2.putText(frame_display, \"Original\", label_position, font, font_scale, font_color, thickness, line_type)\n",
    "    cv2.putText(players_display, \"Players Only\", label_position, font, font_scale, font_color, thickness, line_type)\n",
    "    cv2.putText(ball_display, \"Ball Only\", label_position, font, font_scale, font_color, thickness, line_type)\n",
    "    cv2.putText(combined_display, \"Ball + Players\", label_position, font, font_scale, font_color, thickness, line_type)\n",
    "\n",
    "    top_row = cv2.hconcat([frame_display, players_display])\n",
    "    bottom_row = cv2.hconcat([ball_display, combined_display])\n",
    "    display_grid = cv2.vconcat([top_row, bottom_row])\n",
    "\n",
    "    cv2.imshow(\"Tracking View\", display_grid)\n",
    "\n",
    "    out.write(display_grid)\n",
    "\n",
    "    if cv2.waitKey(1) & 0xFF == ord('q'):\n",
    "        break\n",
    "\n",
    "cap.release()\n",
    "out.release()\n",
    "cv2.destroyAllWindows()"
   ]
  }
 ],
 "metadata": {
  "kernelspec": {
   "display_name": "Python 3",
   "language": "python",
   "name": "python3"
  },
  "language_info": {
   "codemirror_mode": {
    "name": "ipython",
    "version": 3
   },
   "file_extension": ".py",
   "mimetype": "text/x-python",
   "name": "python",
   "nbconvert_exporter": "python",
   "pygments_lexer": "ipython3",
   "version": "3.13.2"
  }
 },
 "nbformat": 4,
 "nbformat_minor": 2
}
