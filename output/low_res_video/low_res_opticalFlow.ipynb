{
 "cells": [
  {
   "cell_type": "code",
   "execution_count": 1,
   "metadata": {},
   "outputs": [],
   "source": [
    "import cv2\n",
    "import os\n",
    "import glob\n",
    "import numpy as np\n",
    "\n",
    "image_path = \"../../dataset/train/images/clip_one/*\"\n",
    "\n",
    "image_files = sorted(glob.glob(image_path))\n",
    "\n",
    "if not image_files:\n",
    "    print(\"No images found in the specified directory.\")\n",
    "else:\n",
    "    cv2.namedWindow(\"Video\", cv2.WINDOW_NORMAL)\n",
    "\n",
    "    backSub = cv2.createBackgroundSubtractorMOG2(history=0, varThreshold=1000)\n",
    "    backSub.setBackgroundRatio(0.9)\n",
    "\n",
    "    prev_gray = None\n",
    "    thresh = 5\n",
    "\n",
    "    for img_file in image_files:\n",
    "        frame = cv2.imread(img_file)\n",
    "        if frame is None:\n",
    "            print(f\"Could not read image: {img_file}\")\n",
    "            continue\n",
    "\n",
    "        gray_frame = cv2.cvtColor(frame, cv2.COLOR_BGR2GRAY)\n",
    "\n",
    "        _, binary_frame = cv2.threshold(gray_frame, 150, 255, cv2.THRESH_TOZERO)\n",
    "        fg_mask = backSub.apply(binary_frame)\n",
    "\n",
    "        kernel = cv2.getStructuringElement(cv2.MORPH_ELLIPSE, (7, 7))\n",
    "        fg_mask = cv2.morphologyEx(fg_mask, cv2.MORPH_DILATE, kernel)\n",
    "\n",
    "        fg_mask = cv2.GaussianBlur(fg_mask, (5, 5), 2)\n",
    "\n",
    "        if prev_gray is not None:\n",
    "            flow = cv2.calcOpticalFlowFarneback(prev_gray, gray_frame, None, 0.5, 3, 5, 3, 5, 1.2, 0)\n",
    "            mag, ang = cv2.cartToPolar(flow[..., 0], flow[..., 1])\n",
    "            motion_mask = (mag > thresh).astype(np.uint8) * 255\n",
    "            filtered_frame = cv2.bitwise_and(frame, frame, mask=motion_mask)\n",
    "            cv2.imshow(\"Video\", filtered_frame)\n",
    "            cv2.imshow(\"fg_mask\", fg_mask)\n",
    "            cv2.imshow(\"gray\", gray_frame)\n",
    "\n",
    "        prev_gray = gray_frame\n",
    "\n",
    "        if cv2.waitKey(33) & 0xFF == ord('q'):\n",
    "            break\n",
    "\n",
    "    cv2.destroyAllWindows()\n"
   ]
  }
 ],
 "metadata": {
  "kernelspec": {
   "display_name": "Python 3",
   "language": "python",
   "name": "python3"
  },
  "language_info": {
   "codemirror_mode": {
    "name": "ipython",
    "version": 3
   },
   "file_extension": ".py",
   "mimetype": "text/x-python",
   "name": "python",
   "nbconvert_exporter": "python",
   "pygments_lexer": "ipython3",
   "version": "3.13.2"
  }
 },
 "nbformat": 4,
 "nbformat_minor": 2
}
